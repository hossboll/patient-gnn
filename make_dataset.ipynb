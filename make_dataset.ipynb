{
 "cells": [
  {
   "cell_type": "code",
   "execution_count": null,
   "metadata": {},
   "outputs": [],
   "source": [
    "import pandas as pd\n",
    "import os\n",
    "from datetime import datetime\n",
    "import seaborn as sns\n",
    "from pyhealth.datasets import MIMIC3Dataset\n",
    "from datetime import datetime\n",
    "import plotly.express as px\n",
    "import matplotlib.pyplot as plt\n",
    "import numpy as np \n",
    "from sklearn.decomposition import PCA\n",
    "import plotly.graph_objects as go\n",
    "from collections import Counter\n",
    "from plotly.subplots import make_subplots\n",
    "from sklearn.metrics.pairwise import cosine_similarity"
   ]
  },
  {
   "cell_type": "code",
   "execution_count": null,
   "metadata": {},
   "outputs": [],
   "source": [
    "embs = r\"PATH_TO_EMBEDDINGS.txt\" # from choi, 2016"
   ]
  },
  {
   "cell_type": "code",
   "execution_count": null,
   "metadata": {},
   "outputs": [],
   "source": [
    "with open(embs, 'r') as file:\n",
    "    lines = file.readlines()\n",
    "\n",
    "len(lines) # 51327 tokens + header"
   ]
  },
  {
   "cell_type": "code",
   "execution_count": null,
   "metadata": {},
   "outputs": [],
   "source": [
    "codes = []\n",
    "embeddings = []\n",
    "\n",
    "for i in range(1, len(lines)):\n",
    "    line = lines[i].strip()\n",
    "    parts = line.split()\n",
    "    code = parts[0]\n",
    "    embedding = np.array(parts[1:], dtype=float).tolist() \n",
    "    codes.append(code)\n",
    "    embeddings.append(embedding)\n",
    "\n",
    "emb_df = pd.DataFrame({\n",
    "    'code': codes,\n",
    "    'embedding': embeddings\n",
    "})\n",
    "\n",
    "emb_df = emb_df.drop(emb_df.index[0]) # dropping <\\s> token\n",
    "print(emb_df.head(), emb_df.shape)"
   ]
  },
  {
   "cell_type": "code",
   "execution_count": null,
   "metadata": {},
   "outputs": [],
   "source": [
    "emb_df['prefix'] = emb_df['code'].apply(lambda x: x.split('_')[0])\n",
    "code_counts = emb_df['prefix'].value_counts()\n",
    "print(code_counts)"
   ]
  },
  {
   "cell_type": "code",
   "execution_count": null,
   "metadata": {},
   "outputs": [],
   "source": [
    "emb_array = np.array(emb_df['embedding'].tolist())\n",
    "pca = PCA(n_components=0.95)\n",
    "pca_emb = pca.fit_transform(emb_array)\n",
    "pca_emb.shape"
   ]
  },
  {
   "cell_type": "code",
   "execution_count": null,
   "metadata": {},
   "outputs": [],
   "source": [
    "pca_df = pd.DataFrame(pca_emb)\n",
    "pca_df['Prefix'] = emb_df['prefix'].values "
   ]
  },
  {
   "cell_type": "code",
   "execution_count": null,
   "metadata": {},
   "outputs": [],
   "source": [
    "fig = px.scatter(pca_df, x=pca_df.columns[0], y=pca_df.columns[1], color=pca_df['Prefix'], \n",
    "                 title=\"PCA: Medical concept embeddings\",\n",
    "                 width=900, height=700)\n",
    "\n",
    "fig.show()"
   ]
  },
  {
   "cell_type": "code",
   "execution_count": null,
   "metadata": {},
   "outputs": [],
   "source": [
    "code_mapping = {'C': '#636EFA',\n",
    "                'L': '#EF553B',\n",
    "                'IDX': '#00CC96',\n",
    "                'N': '#AB63FA',\n",
    "                'IPR': '#FFA15A'}\n",
    "colors = pca_df['Prefix'].map(code_mapping)\n",
    "\n",
    "fig = go.Figure(data=[go.Scatter3d(\n",
    "    x=pca_df[pca_df.columns[0]], \n",
    "    y=pca_df[pca_df.columns[1]],  \n",
    "    z=pca_df[pca_df.columns[2]],\n",
    "    mode='markers',\n",
    "    marker=dict(\n",
    "        size=2,\n",
    "        color=colors,          \n",
    "        opacity=0.8\n",
    "    ),\n",
    "    text=pca_df['Prefix'], \n",
    "    hoverinfo='text'\n",
    ")])\n",
    "\n",
    "fig.update_layout(\n",
    "    title=\"Embeddings PCA, Learning low-dimensional representations of medical concepts, Choi 2016\",\n",
    "    margin=dict(l=0, r=0, b=0, t=30)\n",
    ")\n",
    "fig.show()"
   ]
  },
  {
   "cell_type": "markdown",
   "metadata": {},
   "source": [
    "## Types of codes\n",
    "We have 5 different kinds of codes in the embedding set. In this work, we will be using the first three.\n",
    "- IDX = ICD-9 Diagnosis codes\n",
    "- N = NDC Medication codes\n",
    "- IPR = ICD-9 Procedure codes\n",
    "- C = CPT Codes (CPTEVENTS table)\n",
    "- L = LOINC Codes (Lab results) "
   ]
  },
  {
   "cell_type": "code",
   "execution_count": null,
   "metadata": {},
   "outputs": [],
   "source": [
    "code_counts_df = pd.DataFrame(code_counts)\n",
    "\n",
    "fig = px.bar(x=code_counts_df.index, y=code_counts_df['prefix'], \n",
    "             title='Types of codes in the embedding set',\n",
    "             labels={'prefix': 'Frequency', 'index': 'Code prefix'},\n",
    "             width=800, height=500)\n",
    "\n",
    "fig.update_xaxes(tickangle=45) \n",
    "fig.update_traces(text=code_counts_df['prefix'], textposition='outside')\n",
    "fig.show()"
   ]
  },
  {
   "cell_type": "code",
   "execution_count": null,
   "metadata": {},
   "outputs": [],
   "source": [
    "# dropping codes we won't use\n",
    "emb_df = emb_df[emb_df['prefix'].isin([\"IDX\", \"N\", \"IPR\"])]\n",
    "emb_df.shape"
   ]
  },
  {
   "cell_type": "markdown",
   "metadata": {},
   "source": [
    "## Preprocessing: creating the 'medical codes for HF prediction' dataset"
   ]
  },
  {
   "cell_type": "markdown",
   "metadata": {},
   "source": [
    "This dataset is comprised of patients as rows and a representation of their medical histories, based on the mean of their embeddings of diagnosis and procedures (ICD-9), and medication (NDC) codes across visits, as features. \n",
    "\n",
    "Given the goal of diagnosing heart failure (HF), we will be labelling them later on.  \n",
    "\n",
    "After, these are concatenated with some demographics data."
   ]
  },
  {
   "cell_type": "markdown",
   "metadata": {},
   "source": [
    "#### Creating the patient dictionary with PyHealth"
   ]
  },
  {
   "cell_type": "code",
   "execution_count": null,
   "metadata": {},
   "outputs": [],
   "source": [
    "# path where mimic-iii tables are located\n",
    "path_to_mimiciii_tables = r\"PATH_TO_TABLES\"\n",
    "\n",
    "# tables from mimic-iii that will be used - pyhealth supports diagnoses, procedures, prescriptions\n",
    "tables = [\"DIAGNOSES_ICD\", 'PROCEDURES_ICD', \"PRESCRIPTIONS\"]\n",
    "\n",
    "#codes from new york state dept health icd workbook\n",
    "# list of icd-9 codes indicating heart failure - strings due to dict formatting\n",
    "HF_ICD9_CODES = [\n",
    "    '4250', '4251', '4252', '4253', '4254', '4255', '4257', '4258', '4259', '42983',\n",
    "    '42830', '42832', '42840', '42842',\n",
    "    '39891', '4280', '4281', '42820', '42822', '4289',\n",
    "    '40211', '40291',\n",
    "    '40411', '40491',\n",
    "    '4168', '4169'\n",
    "]"
   ]
  },
  {
   "cell_type": "code",
   "execution_count": null,
   "metadata": {},
   "outputs": [],
   "source": [
    "# loading mimic-iii dataset with pyhealth\n",
    "def load_mimic_pyhealth(path):\n",
    "    base_dataset = MIMIC3Dataset(\n",
    "        root=path,\n",
    "        tables=tables,\n",
    "        dev=False,\n",
    "        #code_mapping={\"NDC\": \"ATC\"},\n",
    "        refresh_cache=False)\n",
    "    return base_dataset\n",
    "\n",
    "mimic_data = load_mimic_pyhealth(path_to_mimiciii_tables)\n",
    "print(mimic_data)"
   ]
  },
  {
   "cell_type": "code",
   "execution_count": null,
   "metadata": {},
   "outputs": [],
   "source": [
    "# mimic-iii dataset is loaded as a dict -> key is patient_id; value is Patient object\n",
    "print(mimic_data.info())\n",
    "print(f\"\\nAvailable MIMIC-III tables: {mimic_data.available_tables}\")"
   ]
  },
  {
   "cell_type": "code",
   "execution_count": null,
   "metadata": {},
   "outputs": [],
   "source": [
    "mimic_data.stat()"
   ]
  },
  {
   "cell_type": "code",
   "execution_count": null,
   "metadata": {},
   "outputs": [],
   "source": [
    "# filter patients with more than 2 visits\n",
    "filtered_patients = {patient_id: patient for patient_id, patient in mimic_data.patients.items() if len(patient.visits) >= 2}\n",
    "print(f\"The number of patients with >=2 visits is {len(filtered_patients)}.\")"
   ]
  },
  {
   "cell_type": "code",
   "execution_count": null,
   "metadata": {},
   "outputs": [],
   "source": [
    "visit_counts = {patient_id: len(patient.visits) for patient_id, patient in filtered_patients.items()} # run again after filtering max 5 visits for seeing graph below\n",
    "frequency = Counter(visit_counts.values())\n",
    "sorted_visits = dict(sorted(frequency.items()))\n",
    "df_visits = pd.DataFrame(sorted_visits.items(), columns=['visits', 'frequency'])"
   ]
  },
  {
   "cell_type": "code",
   "execution_count": null,
   "metadata": {},
   "outputs": [],
   "source": [
    "total_patients = sum(frequency.values())\n",
    "cumulative_frequency = 0\n",
    "cutoff = None\n",
    "\n",
    "for visits, count in sorted(frequency.items()):\n",
    "    cumulative_frequency += count\n",
    "    if cumulative_frequency / total_patients >= 0.95:  # 95% threshold\n",
    "        cutoff = visits\n",
    "        break\n",
    "\n",
    "print(f\"Suggested cutoff based on 95% cumulative frequency: {cutoff} visits\")"
   ]
  },
  {
   "cell_type": "code",
   "execution_count": null,
   "metadata": {},
   "outputs": [],
   "source": [
    "# filter patients with 2-5 visits\n",
    "filtered_patients = {patient_id: patient for patient_id, patient in filtered_patients.items() if len(patient.visits) <= 5}"
   ]
  },
  {
   "cell_type": "code",
   "execution_count": null,
   "metadata": {},
   "outputs": [],
   "source": [
    "plt.figure(figsize=(10, 6))\n",
    "plt.bar(df_visits['visits'], df_visits['frequency'])\n",
    "\n",
    "plt.title('Frequency of patient visits')\n",
    "plt.xlabel('No. of visits')\n",
    "plt.ylabel('No. of patients')\n",
    "plt.xticks(rotation=45)\n",
    "for bar in plt.gca().patches:\n",
    "    plt.gca().text(bar.get_x() + bar.get_width() / 2, bar.get_height() + 0.1, f'{int(bar.get_height())}',\n",
    "                   ha='center', va='bottom', color='black', rotation='horizontal')\n",
    "plt.show()"
   ]
  },
  {
   "cell_type": "markdown",
   "metadata": {},
   "source": [
    "## Creating the patient dataset - codes\n",
    "First, we will create some functions to label patients based on the presence or absence of an ICD-9 heart failure code in their medical history. \n",
    "In the end, we will have a dataset where each row is a patient visit, and the columns are lists of their diagnosis + procedure + medication codes (these for all of their medical history) + label (binary). \n",
    "\n",
    "Then, we will get the embeddings per code class. And then we take the mean among all to get the final patient representation. In the end, each row will be representing a patient's medical history, and in the columns we will find their mean embedding (dim=300)."
   ]
  },
  {
   "cell_type": "code",
   "execution_count": null,
   "metadata": {},
   "outputs": [],
   "source": [
    "# dict structure\n",
    "patient = filtered_patients['10004']\n",
    "visit = patient.visits['161106']\n",
    "d = visit.get_event_list('DIAGNOSES_ICD') # events - diag\n",
    "print(d[0]) # single event\n",
    "print(d[0].code, type(d[0].code)) #diag code - str"
   ]
  },
  {
   "cell_type": "code",
   "execution_count": null,
   "metadata": {},
   "outputs": [],
   "source": [
    "def diagnosis_stats(codes, patients, diagnosis):\n",
    "    patients_with_diagnosis = set()\n",
    "    total_patient_count = len(filtered_patients)\n",
    "\n",
    "    for patient in patients.values():\n",
    "        # flag to check if a heart failure code is found for a patient\n",
    "        has_diagnosis = False\n",
    "        \n",
    "        for visit in patient.visits.values():\n",
    "            if 'DIAGNOSES_ICD' in visit.available_tables:\n",
    "                for event in visit.get_event_list('DIAGNOSES_ICD'):\n",
    "                    if event.code in codes:\n",
    "                        has_diagnosis = True\n",
    "                        break  # exit the loop when a heart failure code is found\n",
    "        \n",
    "        # if a heart failure code was found for the patient, increment the counter\n",
    "        if has_diagnosis:\n",
    "            patients_with_diagnosis.add(patient.patient_id)\n",
    "\n",
    "    pt_diagnosis_count = len(patients_with_diagnosis)\n",
    "\n",
    "    print(f\"Total number of patients: {total_patient_count}\")\n",
    "    print(f\"Number of patients with at least one {diagnosis} code: {pt_diagnosis_count}\")\n",
    "\n",
    "    if total_patient_count > 0:  \n",
    "        percentage_patients = (pt_diagnosis_count / total_patient_count) * 100\n",
    "        print(f\"Percentage of patients with at least one {diagnosis} code: {percentage_patients:.2f}%\")\n",
    "    else:\n",
    "        print(\"no patients found\")\n",
    "\n",
    "diagnosis_stats(HF_ICD9_CODES, filtered_patients, \"heart failure\")"
   ]
  },
  {
   "cell_type": "code",
   "execution_count": null,
   "metadata": {},
   "outputs": [],
   "source": [
    "def filter_visits(patient, codes):\n",
    "    has_diagnosis = False\n",
    "    first_hf_time = None\n",
    "    \n",
    "    for visit in patient.visits.values():\n",
    "        for event in visit.get_event_list('DIAGNOSES_ICD'):\n",
    "            if event.code in codes:\n",
    "                #print(\"HF code found in visit:\", visit, visit.encounter_time)\n",
    "                has_diagnosis = True\n",
    "                if first_hf_time is None or visit.encounter_time < first_hf_time:\n",
    "                    first_hf_time = visit.encounter_time\n",
    "                    break  \n",
    "    \n",
    "    if has_diagnosis and first_hf_time is not None:\n",
    "        visits_to_include = {\n",
    "            visit_id: visit\n",
    "            for visit_id, visit in patient.visits.items()\n",
    "            if visit.encounter_time < first_hf_time\n",
    "        }\n",
    "    else:\n",
    "        visits_to_include = {\n",
    "            visit_id: visit\n",
    "            for visit_id, visit in patient.visits.items()}\n",
    "    \n",
    "    return has_diagnosis, visits_to_include"
   ]
  },
  {
   "cell_type": "code",
   "execution_count": null,
   "metadata": {},
   "outputs": [],
   "source": [
    "code_first_visit = 0\n",
    "total_patients = 0\n",
    "positives = 0\n",
    "without_hf_first_visit = []\n",
    "\n",
    "for patient_id, patient in filtered_patients.items():\n",
    "    #if total_patients_processed >= 20000:\n",
    "        #break\n",
    "    has_diagnosis, visits_to_include = filter_visits(patient, HF_ICD9_CODES)\n",
    "    if has_diagnosis:\n",
    "        positives += 1\n",
    "        \n",
    "        first_visit = min(patient.visits.values(), key=lambda visit: visit.encounter_time)\n",
    "        if first_visit:\n",
    "            first_visit_has_code = any(\n",
    "                event.code in HF_ICD9_CODES\n",
    "                for event in first_visit.get_event_list('DIAGNOSES_ICD')\n",
    "            )\n",
    "            if first_visit_has_code:\n",
    "                code_first_visit += 1\n",
    "            else:\n",
    "                without_hf_first_visit.append(patient_id)\n",
    "                \n",
    "    total_patients += 1\n",
    "\n",
    "if positives > 0:\n",
    "    per_first_visit = (code_first_visit / positives) * 100\n",
    "    print(f\"No. positive patients: {positives}\")\n",
    "    print(f\"Percentage of patients with HF who had a HF code in their first visit: {per_first_visit:.2f}%\")\n",
    "else:\n",
    "    print(\"no patients found with HF diagnosis codes.\")\n",
    "\n",
    "if without_hf_first_visit:\n",
    "    print(f\"Patients with/without HF in first visit:{code_first_visit, len(without_hf_first_visit)}\")\n",
    "    #print(without_hf_first_visit)\n",
    "else:\n",
    "    print(\"all patients have HF in their first visit.\")"
   ]
  },
  {
   "cell_type": "code",
   "execution_count": null,
   "metadata": {},
   "outputs": [],
   "source": [
    "diag, vis = filter_visits(filtered_patients['10160'], HF_ICD9_CODES) # positive but with code in 1st visit = empty dict. these patients will be dropped.\n",
    "diag, vis"
   ]
  },
  {
   "cell_type": "code",
   "execution_count": null,
   "metadata": {},
   "outputs": [],
   "source": [
    "diag, vis = filter_visits(filtered_patients['10174'], HF_ICD9_CODES) # positive wwith code not in 1st visit = visits after hf included\n",
    "diag, vis"
   ]
  },
  {
   "cell_type": "code",
   "execution_count": null,
   "metadata": {},
   "outputs": [],
   "source": [
    "diag, vis = filter_visits(filtered_patients['3868'], HF_ICD9_CODES) # negative = all visits included\n",
    "diag, vis"
   ]
  },
  {
   "cell_type": "code",
   "execution_count": null,
   "metadata": {},
   "outputs": [],
   "source": [
    "def create_record(patient, visit, has_diagnosis):\n",
    "    admission_time = visit.encounter_time if isinstance(visit.encounter_time, datetime) else datetime.strptime(visit.encounter_time, \"%Y-%m-%d %H:%M:%S\")\n",
    "    birthdate = patient.birth_datetime if isinstance(patient.birth_datetime, datetime) else datetime.strptime(patient.birth_datetime, \"%Y-%m-%d\")\n",
    "        \n",
    "    # calculate age at the time of admission\n",
    "    age_at_admission = (admission_time - birthdate).days // 365\n",
    "\n",
    "    diagnosis_codes = [event.code for event in visit.get_event_list('DIAGNOSES_ICD')]\n",
    "    procedure_codes = [event.code for event in visit.get_event_list('PROCEDURES_ICD')]\n",
    "    prescription_codes = [event.code for event in visit.get_event_list('PRESCRIPTIONS') if event.code != '0'] #ignore code 0 ndc\n",
    "        \n",
    "    record = {\n",
    "        'patient_id': patient.patient_id,\n",
    "        'label': int(has_diagnosis),\n",
    "        'visit_id': visit.visit_id,\n",
    "        'gender': patient.gender,\n",
    "        'ethnicity': patient.ethnicity,\n",
    "        'age': age_at_admission,  \n",
    "        'admission_time': admission_time,\n",
    "        'discharge_time': visit.discharge_time,\n",
    "        'discharge_status': visit.discharge_status,\n",
    "        'diagnosis_codes': ', '.join(diagnosis_codes),\n",
    "        'procedure_codes': ', '.join(procedure_codes),\n",
    "        'prescription_codes': ', '.join(prescription_codes),            \n",
    "    }\n",
    "    \n",
    "    return record"
   ]
  },
  {
   "cell_type": "code",
   "execution_count": null,
   "metadata": {},
   "outputs": [],
   "source": [
    "def generate_patient_visits(filtered_patients, codes):\n",
    "    data = []\n",
    "    #visit_ids = []\n",
    "    for patient_id, patient in filtered_patients.items():\n",
    "        has_diagnosis, visits_to_include = filter_visits(patient, codes)\n",
    "        if visits_to_include != {}: # for positive patients, only include patients who didnt have HF in 1st visit\n",
    "            for visit_id, visit in visits_to_include.items():\n",
    "                record = create_record(patient, visit, has_diagnosis)\n",
    "                data.append(record)\n",
    "            #visit_ids.append(visit_id)\n",
    "    \n",
    "    #with open('visit_ids_to_include.txt', 'w') as file:\n",
    "        #for visit_id in visit_ids:\n",
    "            #file.write(f\"{visit_id}\\n\")\n",
    "    \n",
    "    return pd.DataFrame(data)"
   ]
  },
  {
   "cell_type": "code",
   "execution_count": null,
   "metadata": {},
   "outputs": [],
   "source": [
    "hf_patient_seqs = generate_patient_visits(filtered_patients, HF_ICD9_CODES)"
   ]
  },
  {
   "cell_type": "code",
   "execution_count": null,
   "metadata": {},
   "outputs": [],
   "source": [
    "print(hf_patient_seqs['patient_id'].nunique())\n",
    "hf_patient_seqs"
   ]
  },
  {
   "cell_type": "code",
   "execution_count": null,
   "metadata": {},
   "outputs": [],
   "source": [
    "# check - only keeping positive patients with HF in 2nd visit or later\n",
    "# first - hf in first visit; 2nd = hf in later visits, 3rd = negative\n",
    "print(hf_patient_seqs['patient_id'].isin(['10160']).any(), hf_patient_seqs['patient_id'].isin(['10174']).any(), hf_patient_seqs['patient_id'].isin(['10059']).any())\n",
    "print(hf_patient_seqs.loc[hf_patient_seqs['patient_id'] == '10160', 'label'].values, hf_patient_seqs.loc[hf_patient_seqs['patient_id'] == '10174', 'label'].values, hf_patient_seqs.loc[hf_patient_seqs['patient_id'] == '10059', 'label'].values) # 1 label per each visit"
   ]
  },
  {
   "cell_type": "code",
   "execution_count": null,
   "metadata": {},
   "outputs": [],
   "source": [
    "positive_count = hf_patient_seqs[hf_patient_seqs['label'] == 1].shape[0]\n",
    "negative_count = hf_patient_seqs[hf_patient_seqs['label'] == 0].shape[0]\n",
    "\n",
    "pt_data = pd.DataFrame({\n",
    "    'Label': ['Positive', 'Negative'],\n",
    "    'Count': [positive_count, negative_count]\n",
    "})\n",
    "\n",
    "fig = px.bar(pt_data, x='Label', y='Count',\n",
    "             width=700, height=600,\n",
    "             labels={'Count': 'No. of patients', 'Label': 'Heart failure diagnosis'},\n",
    "             title='Positive/Negative HF visits')\n",
    "fig.show()"
   ]
  },
  {
   "cell_type": "markdown",
   "metadata": {},
   "source": [
    "## Creating the patient dataset - embeddings\n",
    "Now, we will start converting the list of codes into their embedding representation."
   ]
  },
  {
   "cell_type": "code",
   "execution_count": null,
   "metadata": {},
   "outputs": [],
   "source": [
    "def format_embs(df, prefix):\n",
    "    df_prefix = df[df['prefix']==prefix]['code']\n",
    "    df_prefix = df_prefix.apply(lambda x: x.replace(\".\", \"\")) # remove dots from codes to match mimic table\n",
    "    df_prefix = df_prefix.apply(lambda x: x.split('_', 1)[-1]) # remove the prefix from the code\n",
    "    return df_prefix"
   ]
  },
  {
   "cell_type": "code",
   "execution_count": null,
   "metadata": {},
   "outputs": [],
   "source": [
    "# obtaining sets of each code class that are being used by patients\n",
    "diag_df = format_embs(emb_df, 'IDX')\n",
    "med_df = format_embs(emb_df, 'N')\n",
    "proc_df = format_embs(emb_df, 'IPR')\n",
    "\n",
    "diag_codes_patient = set(code for sublist in hf_patient_seqs['diagnosis_codes'].str.split(', ') for code in sublist)\n",
    "med_codes_patient = set(code for sublist in hf_patient_seqs['prescription_codes'].str.split(', ') for code in sublist)\n",
    "proc_codes_patient = set(code for sublist in hf_patient_seqs['procedure_codes'].str.split(', ') for code in sublist)"
   ]
  },
  {
   "cell_type": "code",
   "execution_count": null,
   "metadata": {},
   "outputs": [],
   "source": [
    "def format_embs_all(df):\n",
    "    df['code'] = df['code'].apply(lambda x: x.replace(\".\", \"\"))\n",
    "    df['code'] = df['code'].apply(lambda x: x.split('_', 1)[-1])\n",
    "    return df\n",
    "\n",
    "# removing prefixes from embeddings in final df\n",
    "emb_df_wo_prefix = format_embs_all(emb_df)\n",
    "emb_df_wo_prefix = emb_df_wo_prefix[emb_df_wo_prefix['prefix'].isin(['IDX', 'N', 'IPR'])]\n",
    "emb_df_wo_prefix"
   ]
  },
  {
   "cell_type": "code",
   "execution_count": null,
   "metadata": {},
   "outputs": [],
   "source": [
    "# dict to store code-emb mapping\n",
    "code_to_embedding = {f\"{row['prefix']}_{row['code']}\": row['embedding'] for index, row in emb_df_wo_prefix.iterrows()}\n",
    "#code_to_embedding "
   ]
  },
  {
   "cell_type": "code",
   "execution_count": null,
   "metadata": {},
   "outputs": [],
   "source": [
    "# taking the mean of the embeddings of each code class\n",
    "def add_mean_emb(df, type):\n",
    "    prefix = {'diagnosis': 'IDX_',\n",
    "              'prescription': 'N_',\n",
    "              'procedure': 'IPR_'}\n",
    "    \n",
    "    df[type + '_embedding'] = None\n",
    "\n",
    "    for index, row in df.iterrows():\n",
    "        embeddings = []\n",
    "        for code in str(row[type + '_codes']).split(','):\n",
    "            code = code.strip()\n",
    "            code = prefix[type] + code\n",
    "            if code in code_to_embedding:\n",
    "                embeddings.append(code_to_embedding[code])\n",
    "        \n",
    "        if embeddings:\n",
    "            mean_embedding = np.mean(embeddings, axis=0)\n",
    "            df.at[index, type + '_embedding'] = mean_embedding\n",
    "\n",
    "    return df"
   ]
  },
  {
   "cell_type": "code",
   "execution_count": null,
   "metadata": {},
   "outputs": [],
   "source": [
    "hf_patient_seqs_emb = add_mean_emb(hf_patient_seqs, 'diagnosis')\n",
    "hf_patient_seqs_emb = add_mean_emb(hf_patient_seqs_emb, 'prescription')\n",
    "hf_patient_seqs_emb = add_mean_emb(hf_patient_seqs_emb, 'procedure')\n",
    "hf_patient_seqs_emb = hf_patient_seqs_emb.dropna() # dropping patients that do not have all 3 kinds of embs (~200)\n",
    "hf_patient_seqs_emb, hf_patient_seqs_emb.shape"
   ]
  },
  {
   "cell_type": "code",
   "execution_count": null,
   "metadata": {},
   "outputs": [],
   "source": [
    "#for scatterplot\n",
    "hf_patient_seqs_emb = hf_patient_seqs_emb[hf_patient_seqs_emb['age'] <= 98]\n"
   ]
  },
  {
   "cell_type": "code",
   "execution_count": null,
   "metadata": {},
   "outputs": [],
   "source": [
    "print(hf_patient_seqs_emb['patient_id'].nunique())"
   ]
  },
  {
   "cell_type": "code",
   "execution_count": null,
   "metadata": {},
   "outputs": [],
   "source": [
    "# to represent a single vsit, take mean of mean we just took\n",
    "def add_mean_emb_visit(df):\n",
    "    df['visit_embedding'] = None\n",
    "    embedding_cols = [col for col in df.columns if '_embedding' in col]\n",
    "\n",
    "    for index, row in df.iterrows():\n",
    "        embeddings = [row[col] for col in embedding_cols if isinstance(row[col], np.ndarray) and row[col].size > 0]\n",
    "        \n",
    "        if embeddings:\n",
    "            mean_embedding = np.mean(embeddings, axis=0)\n",
    "            df.at[index, 'visit_embedding'] = mean_embedding\n",
    "\n",
    "    return df"
   ]
  },
  {
   "cell_type": "code",
   "execution_count": null,
   "metadata": {},
   "outputs": [],
   "source": [
    "hf_patient_seqs_emb_mean = add_mean_emb_visit(hf_patient_seqs_emb)\n",
    "hf_patient_seqs_emb_mean"
   ]
  },
  {
   "cell_type": "code",
   "execution_count": null,
   "metadata": {},
   "outputs": [],
   "source": [
    "print(hf_patient_seqs_emb_mean.isna().sum()) # no missing values"
   ]
  },
  {
   "cell_type": "code",
   "execution_count": null,
   "metadata": {},
   "outputs": [],
   "source": [
    "hf_patient_seqs_emb_mean.head()"
   ]
  },
  {
   "cell_type": "code",
   "execution_count": null,
   "metadata": {},
   "outputs": [],
   "source": [
    "visit_embeddings = np.vstack(hf_patient_seqs_emb_mean['visit_embedding'])\n",
    "labels = hf_patient_seqs_emb_mean['label'].values\n",
    "pca = PCA(n_components=0.95)\n",
    "pca_visit_embeddings = pca.fit_transform(visit_embeddings)"
   ]
  },
  {
   "cell_type": "code",
   "execution_count": null,
   "metadata": {},
   "outputs": [],
   "source": [
    "pca_visit_embeddings.shape"
   ]
  },
  {
   "cell_type": "code",
   "execution_count": null,
   "metadata": {},
   "outputs": [],
   "source": [
    "plt.figure(figsize=(10, 8))\n",
    "sns.scatterplot(x=pca_visit_embeddings[:, 0], y=pca_visit_embeddings[:, 1], hue=labels, legend='full', alpha=0.7)\n",
    "plt.title('PCA of visit embeddings')\n",
    "plt.xlabel('c1')\n",
    "plt.ylabel('c2')\n",
    "plt.legend(title='Label')\n",
    "plt.grid(True)\n",
    "plt.show()"
   ]
  },
  {
   "cell_type": "code",
   "execution_count": null,
   "metadata": {},
   "outputs": [],
   "source": [
    "# the final step, create new df with aggregated visit embedding data per patient_id\n",
    "def avg_patient_emb(df):\n",
    "    patient_data = [] \n",
    "    grouped = df.groupby('patient_id')\n",
    "\n",
    "    for patient_id, group in grouped:\n",
    "        embeddings = [emb for emb in group['visit_embedding']]\n",
    "\n",
    "        if embeddings:\n",
    "            mean_embedding = np.mean(embeddings, axis=0)\n",
    "            label = group['label'].max()\n",
    "\n",
    "            # optional - demographics\n",
    "            #gender = group['gender'].mode()[0]\n",
    "            #ethnicity = group['ethnicity'].mode()[0]\n",
    "            #age = group['age'].mean()\n",
    "            #discharge_status = group['discharge_status'].mean()\n",
    "            #visit_length = group['visit_length'].mean()\n",
    "\n",
    "            patient_data.append({\n",
    "                'patient_id': patient_id,\n",
    "                'label': label,\n",
    "                'patient_embedding': mean_embedding,\n",
    "                #'gender': int(gender),\n",
    "                #'ethnicity': ethnicity,\n",
    "                #'age': age,\n",
    "                #'discharge_status': discharge_status,\n",
    "                #'visit_length': visit_length\n",
    "            })\n",
    "\n",
    "    patient_df = pd.DataFrame(patient_data, columns=['patient_id', 'label', 'patient_embedding']) # \"gender\", \"ethnicity\", \"age\", \"discharge_status\", \"visit_length\" for demographics\n",
    "    return patient_df"
   ]
  },
  {
   "cell_type": "code",
   "execution_count": null,
   "metadata": {},
   "outputs": [],
   "source": [
    "patient_emb_df = avg_patient_emb(hf_patient_seqs_emb_mean)\n",
    "patient_emb_df"
   ]
  },
  {
   "cell_type": "code",
   "execution_count": null,
   "metadata": {},
   "outputs": [],
   "source": [
    "print(patient_emb_df.isna().sum()) # no missing values"
   ]
  },
  {
   "cell_type": "code",
   "execution_count": null,
   "metadata": {},
   "outputs": [],
   "source": [
    "positive_count = patient_emb_df[patient_emb_df['label'] == 1].shape[0]\n",
    "negative_count = patient_emb_df[patient_emb_df['label'] == 0].shape[0]\n",
    "\n",
    "pt_data = pd.DataFrame({\n",
    "    'Label': ['Positive', 'Negative'],\n",
    "    'Count': [positive_count, negative_count]\n",
    "})\n",
    "\n",
    "fig = px.bar(pt_data, x='Label', y='Count',\n",
    "             width=700, height=600,\n",
    "             labels={'Count': 'No. of patients', 'Label': 'Heart failure diagnosis'},\n",
    "             title='Incidence of heart failure in the patient cohort')\n",
    "fig.update_xaxes(tickangle=45) \n",
    "fig.update_traces(text=pt_data['Count'], textposition='outside')\n",
    "fig.show()\n",
    "\n",
    "\n"
   ]
  },
  {
   "cell_type": "code",
   "execution_count": null,
   "metadata": {},
   "outputs": [],
   "source": [
    "\"\"\" # for demographics\n",
    "patient_embs = np.vstack(\n",
    "    patient_emb_df.apply(lambda row: np.concatenate((row['patient_embedding'], \n",
    "                                                 [row['visit_length'], \n",
    "                                                  row['gender'], \n",
    "                                                  row['ethnicity'], \n",
    "                                                  row['age']])), axis=1)\n",
    ") \"\"\""
   ]
  },
  {
   "cell_type": "code",
   "execution_count": null,
   "metadata": {},
   "outputs": [],
   "source": [
    "patient_embs = np.vstack(patient_emb_df['patient_embedding'])\n",
    "pca = PCA(n_components=0.95)\n",
    "pca_patient_embs = pca.fit_transform(patient_embs)\n",
    "print(pca_patient_embs.shape)\n",
    "\n",
    "code_mapping = {1: '#e8e337', 0: '#636EFA'}\n",
    "colors = patient_emb_df['label'].map(code_mapping)\n",
    "\n",
    "fig = go.Figure(data=go.Scatter(\n",
    "    x=pca_patient_embs[:, 0],\n",
    "    y=pca_patient_embs[:, 1],\n",
    "    mode='markers',\n",
    "    marker=dict(\n",
    "        color=colors, \n",
    "        size=10,\n",
    "        opacity=0.8, \n",
    "    ),\n",
    "    showlegend=False, \n",
    "))\n",
    "\n",
    "fig.add_trace(go.Scatter(\n",
    "    x=[None],\n",
    "    y=[None],\n",
    "    mode='markers',\n",
    "    marker=dict(\n",
    "        color='#e8e337',\n",
    "        size=10,\n",
    "    ),\n",
    "    name='Positive (1)'\n",
    "))\n",
    "\n",
    "fig.add_trace(go.Scatter(\n",
    "    x=[None],\n",
    "    y=[None],\n",
    "    mode='markers',\n",
    "    marker=dict(\n",
    "        color='#636EFA',\n",
    "        size=10,\n",
    "    ),\n",
    "    name='Negative (0)'\n",
    "))\n",
    "\n",
    "fig.update_layout(\n",
    "    title=\"PCA: Patient Embeddings\",\n",
    "    xaxis_title=\"Component 1\",\n",
    "    yaxis_title=\"Component 2\",\n",
    "    width=900,\n",
    "    height=700\n",
    ")\n",
    "fig.show()\n"
   ]
  },
  {
   "cell_type": "code",
   "execution_count": null,
   "metadata": {},
   "outputs": [],
   "source": [
    "\"\"\" patient_emb_df.to_csv(r\"PATH/patient_emb_df.csv\")\n",
    "\n",
    "patient_emb_cols = pd.DataFrame(patient_embs, columns=[f'dim_{i}' for i in range(patient_embs.shape[1])]) \n",
    "patient_emb_cols.to_csv(r\"PATH/patient_emb_cols.csv\")\n",
    "\n",
    "cosine_sim_matrix = cosine_similarity(patient_embs)\n",
    "cosine_sim_df = pd.DataFrame(cosine_sim_matrix, index=range(len(patient_embs)), columns=range(len(patient_embs))) \n",
    "cosine_sim_df.to_csv(r\"PATH/cosine_sim_df.csv\") \"\"\""
   ]
  }
 ],
 "metadata": {
  "kernelspec": {
   "display_name": "dissertation-v1-VJG1ildO-py3.11",
   "language": "python",
   "name": "python3"
  },
  "language_info": {
   "codemirror_mode": {
    "name": "ipython",
    "version": 3
   },
   "file_extension": ".py",
   "mimetype": "text/x-python",
   "name": "python",
   "nbconvert_exporter": "python",
   "pygments_lexer": "ipython3",
   "version": "3.11.1"
  }
 },
 "nbformat": 4,
 "nbformat_minor": 2
}
